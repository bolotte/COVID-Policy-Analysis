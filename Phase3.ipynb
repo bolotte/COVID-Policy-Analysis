{
 "cells": [
  {
   "cell_type": "markdown",
   "metadata": {},
   "source": [
    "# **Give Me Liberty or Give Me… Bankruptcy?**\n",
    "## **Democratic vs. Republican Covid Policies: A Case Study of CA & FL**\n",
    "***\n",
    "By Zachary Bolotte, Katherine O'Connor, Elana Pocress"
   ]
  },
  {
   "cell_type": "markdown",
   "metadata": {},
   "source": [
    "## Research Question\n",
    "\n",
    "How did the differing COVID-19 policy prescriptions affect public health and economic conditions? We will specifically be measuring the difference in testing, postives, and death rates of Democratic and Republican affiliated states, the 5 regions of the United States, and specifically CA vs. FL. Through analyzing various public health and economic indicators we seek to generalize the impacts of diametrically opposed COVID-19 prevention policies.\n",
    "***"
   ]
  },
  {
   "cell_type": "markdown",
   "metadata": {},
   "source": [
    "## Analysis Preregistration"
   ]
  },
  {
   "cell_type": "markdown",
   "metadata": {},
   "source": [
    "### Diff-In-Diff Model: Effects of Fully Reopening FL\n",
    ">#### Objective:\n",
    ">Using the Difference in Differences (DD) model, we seek to measure the treatment on the treated (TOT) effect on the day-over-day positivity rate changes - using 09/25 as treatment date, FL as treated, and CA as untreated. Ultimately, a statistically significant sigma ($\\sigma$) could point towards a true difference (for better or worse) sparked by the 'treatment' of removing restrictions and completely reopening businesses. <br><br>\n",
    ">     In practice, this analysis will serve us in understanding the efficacy of state-mandated COVID-regulations; namely whether, and to what degree, economically damaging policies actually fulfill their purpose in slowing the spread of COVID-19 (i.e. lowering the rate at which positive tests accumulate). The DD model is great in these circumstances because it **does not require homogeneity** between FL and CA; instead, it relies on pre- and post-treatment observations while assuming constant time-series effects to make judgement.<br><br>\n",
    ">Should this finding be interesting and/or significant we may also choose to apply this model to assess similar effects in death rate changes. \n",
    ">#### Formula:\n",
    ">$y_i = \\alpha + \\beta treatment_i + \\gamma post_i + \\sigma (treatment_i \\cdot post_i) + \\epsilon_i$\n",
    ">#### Hypothesis:\n",
    ">$H_0: \\sigma = 0 $ (TOT = 0; Florida's reopening 'treatment' has no affect on positive test increase rate)\n",
    ">#### Where:\n",
    ">+ $y_i$: increase in positive COVID test rates\n",
    ">+ $\\alpha_0$: constant effects term\n",
    ">+ $\\beta$: predisposed effect of being in treatment group - regardless of treatment (FL)\n",
    ">+ $treatment_i$: binary variable - 1 if observation made in Florida, 0 otherwise\n",
    ">+ $\\gamma$: effect of common timeframe (i.e. changes that came about due to time in FL and CA)\n",
    ">+ $post_i$: binary variable - 1 if observation is post-treatment (09/25), 0 otherwise\n",
    ">+ $\\sigma$: coefficient measuring the true effect on the treated (i.e. effect of FL's reopening strategy)\n",
    ">+ $\\epsilon_i$: error term\n"
   ]
  },
  {
   "cell_type": "markdown",
   "metadata": {},
   "source": [
    "### Linear Regression Model: Effect of Being in FL on Positive Test Increase Rates\n",
    ">#### Objective:\n",
    ">Using a series of ordinary least square (OLS) linear regression models, we seek to measure the effect of being in a republican state (FL) relative to the increase rate of positive COVID-19 tests. Rather than a single regression model, we plan to produce a publication-style regression table containing the results of a number regressions with varied timeframes, control variables, and,potentially, relevant instrumental variables as well.<br><br>\n",
    ">In practice, this will serve us in highlighting the correlative difference between states led by Republicans and Democrats - ultimately analyzing both the efficacy and impacts of related policies. Such is important, in no small part, as a means of assessing (1) whether COVID policies actually yielded positive results and (2) if so, what specific aspects played roles in producing such results.\n",
    ">#### Formula:\n",
    ">$y_i = \\alpha + \\beta_1 Florida_i + \\beta_2 Controls_i + \\epsilon_i$\n",
    ">#### Hypothesis:\n",
    ">$H_0: \\sigma = 0 $ (being in FL (as opposed to CA) has no affect on positive test increase rate)\n",
    ">#### Where:\n",
    ">+ $y_i$: increase in positive COVID test rates\n",
    ">+ $\\alpha_0$: constant effects term\n",
    ">+ $\\beta_1$: effect of being in Florida\n",
    ">+ $Florida_i$: binary variable - 1 if observation made in Florida, 0 otherwise\n",
    ">+ $\\beta_2$: effect of control variables \n",
    ">+ $Controls_i$: collection of variables which may effect $y_1$ other than being in FL\n",
    ">+ $\\epsilon_i$: error term"
   ]
  },
  {
   "cell_type": "markdown",
   "metadata": {},
   "source": [
    "### ANOVA and Tukey Tests on testing, positives, and death rates of 5 regions of US, and with CA, FL, and US Averages\n",
    "\n",
    "#### Objective:\n",
    ">In the future, we plan to conduct ANOVA tests to determine if any of the mean COVID testing rates, positive rates, and death rate totals as of 3/07/2021 of the 5 regions of the United States are statistically significant. If the p-value of the ANOVA test is less than 0.05, we will conduct a Tukey Test to determine which regions' differences in means are statistically significant. For both tests, we will be using a confidence level of 0.05.\n",
    "\n",
    ">We also plan to conduct ANOVA tests to determine if the mean COVID testing rates, positive rates, and death increase rates of California, Florida, and the US average are statstically significant over specific time periods using the same procedures as stated above. We also want to conduct these same test on subsets of the data that only the contain certain time periods after Florida began reopening. We plan to test the entire timeframe, only after Florida reopened, and 6 months after Floria reopened.\n",
    "\n",
    "#### Hypothesis:\n",
    ">$H_0:$ the true mean testing, positive, and death rates of all 5 regions of the United States are equal\n",
    "\n",
    ">$H_0:$ the true mean testing, positive, and death rates of all CA, FL and the averages of the United States are equal\n",
    "\n",
    "#### Background Information:\n",
    ">There are many differences across the country that could affect these factors and we are trying our best to account for these differences. We suspect that the more rural midwestern and southern regions of the country will have less testing and therefore less positives and deaths will be recorded. We suspect they will have less testing because they are more rural and will have lower accessibility to testing sites. However, these isolated areas are also less likely to contract COVID-19 than urbanized areas that have more frequent testing. The midwestern and southern regions of the country are generally more Reublican dominated which have a history of being less adherent to COVID-19 guidelines. We also suspect that Florida will have lower testing rates, and higher positives and death rates becuase of their less strict COVID policies that reflect the publics general attitude to adherence of COVID guidelines.\n"
   ]
  },
  {
   "cell_type": "markdown",
   "metadata": {},
   "source": [
    "### Questions for Reviewers\n",
    "\n",
    "1. Not all the regions of the US have the same number of states. For example, the Pacific region only has one state, Hawaii. Should we exclude it from the ANOVA test?\n",
    "2. We were also intereted in comparing political affiliation within the regions of the country. Does the region of the country or is the political affiliation of the state a better predictor for covid testing, positives and death rates? For example, the adherence to COVID regulations may be worse in a democratic southern state than republican northeastern state despite the general association between political affiliation and adherence to covid policy. Would it be possible to determine if region of the country or politcal affiliation is a better predictor for testing, positives, and death rates through a multivarible regression euation? If so, how would we go about doing that?\n",
    "3. On that note, we already have the diff-in-diff models, the regression models, and ANOVA models planned, how many tests is too many? Would it not be wise to attempt a multivariable regression model as well?\n",
    "4. We're also having difficulty with finding good data for economic indicators. We found unemployment rates per month for all 50 states since from 2011-2021, but we're not sure we have enough data to work with since there is only one point per month per state. Would it be possible to take out the econimic aspect of our research question this late into the project?\n",
    "\n"
   ]
  }
 ],
 "metadata": {
  "kernelspec": {
   "display_name": "Python 3",
   "language": "python",
   "name": "python3"
  },
  "language_info": {
   "codemirror_mode": {
    "name": "ipython",
    "version": 3
   },
   "file_extension": ".py",
   "mimetype": "text/x-python",
   "name": "python",
   "nbconvert_exporter": "python",
   "pygments_lexer": "ipython3",
   "version": "3.7.6"
  }
 },
 "nbformat": 4,
 "nbformat_minor": 4
}
